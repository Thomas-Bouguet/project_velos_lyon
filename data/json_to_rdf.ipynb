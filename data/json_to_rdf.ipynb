{
 "cells": [
  {
   "cell_type": "code",
   "execution_count": 7,
   "metadata": {},
   "outputs": [],
   "source": [
    "import json\n",
    "import rdflib as rdf\n",
    "import owlready2 as owl"
   ]
  },
  {
   "cell_type": "code",
   "execution_count": 8,
   "metadata": {},
   "outputs": [],
   "source": [
    "def read_json(path):\n",
    "    f = open(path, 'r')\n",
    "    json_file = f.read()\n",
    "    json_file = json.loads(json_file)\n",
    "    return json_file"
   ]
  },
  {
   "cell_type": "code",
   "execution_count": 9,
   "metadata": {},
   "outputs": [],
   "source": [
    "def modify_json(file,source):\n",
    "    if source==\"grandlyon\":\n",
    "        new_file = file['features']\n",
    "\n",
    "        new_tab = []\n",
    "\n",
    "        for elem in new_file:\n",
    "            new_dict = {}\n",
    "            new_dict[\"name_station\"] = elem['properties']['name']\n",
    "            new_dict[\"station_id\"] = elem['properties']['number']\n",
    "            new_dict[\"lat_station\"] = elem['properties']['lat']\n",
    "            new_dict[\"lon_station\"] = elem['properties']['lng']\n",
    "            new_dict[\"available_bike_stands\"] = elem['properties']['available_bike_stands']\n",
    "            new_dict[\"available_bikes\"] = elem['properties']['available_bikes']\n",
    "            new_dict[\"bike_stands\"] = elem['properties']['bike_stands']\n",
    "            new_dict[\"status\"] = elem['properties']['status']\n",
    "            new_dict[\"city\"] = \"Lyon\"\n",
    "            new_tab.append(new_dict)\n",
    "        \n",
    "        new_dict = {\"@context\" : {\n",
    "            \"@vocab\": \"http://www.semanticweb.org/adrie/ontologies/Projet#\",\n",
    "            \"@base\": \"http://www.semanticweb.org/adrie/ontologies/Projet#\",\n",
    "            \"Type\": \"@type\",\n",
    "            \"name_station\" : \"name_station\",\n",
    "            \"station_id\" : \"station_id\", \n",
    "            \"lat_station\" : \"lat_station\",\n",
    "            \"lon_station\": \"lon_station\", \n",
    "            \"available_bike_stands\" : \"available_bike_stands\", \n",
    "            \"available_bikes\" : \"available_bikes\",\n",
    "            \"bike_stands\" : \"bike_stands\",\n",
    "            \"status\" : \"status\",            \n",
    "            \"city\" : \"city\"\n",
    "        }}\n",
    "        \n",
    "        new_dict[\"@graph\"] = new_tab\n",
    "\n",
    "\n",
    "        return new_dict\n",
    "    else:\n",
    "        return \"Unvalid source\""
   ]
  },
  {
   "cell_type": "code",
   "execution_count": 10,
   "metadata": {},
   "outputs": [
    {
     "name": "stdout",
     "output_type": "stream",
     "text": [
      "{'@context': {'@vocab': 'http://www.semanticweb.org/adrie/ontologies/Projet#', '@base': 'http://www.semanticweb.org/adrie/ontologies/Projet#', 'Type': '@type', 'name_station': 'name_station', 'station_id': 'station_id', 'lat_station': 'lat_station', 'lon_station': 'lon_station', 'available_bike_stands': 'available_bike_stands', 'available_bikes': 'available_bikes', 'bike_stands': 'bike_stands', 'status': 'status', 'city': 'city'}, '@graph': [{'name_station': 'Place Mendès France', 'station_id': '8010', 'lat_station': '45.7400516465032750', 'lon_station': '4.8594164128821960', 'available_bike_stands': '19', 'available_bikes': '1', 'bike_stands': '20', 'status': 'OPEN', 'city': 'Lyon'}, {'name_station': 'Servant / Jaboulay', 'station_id': '7055', 'lat_station': '45.7467662258473740', 'lon_station': '4.8420506993495060', 'available_bike_stands': '0', 'available_bikes': '16', 'bike_stands': '16', 'status': 'OPEN', 'city': 'Lyon'}, {'name_station': 'Saint Fons - 4 chemins', 'station_id': '17002', 'lat_station': '45.7084437290321550', 'lon_station': '4.8548610775585280', 'available_bike_stands': '1', 'available_bikes': '10', 'bike_stands': '11', 'status': 'OPEN', 'city': 'Lyon'}, {'name_station': 'Place des Compagnons de la chanson', 'station_id': '5002', 'lat_station': '45.7565273368784000', 'lon_station': '4.7966121788894250', 'available_bike_stands': '12', 'available_bikes': '6', 'bike_stands': '18', 'status': 'OPEN', 'city': 'Lyon'}]}\n"
     ]
    }
   ],
   "source": [
    "json_file = read_json(\"./raw/bicycle_test.json\")\n",
    "modified_json_file = modify_json(json_file,\"grandlyon\")\n",
    "\n",
    "json.dump(modified_json_file,open(\"./raw/bicycle_test_ld.json\",\"w\"))\n",
    "\n",
    "print(modified_json_file)"
   ]
  },
  {
   "cell_type": "code",
   "execution_count": 11,
   "metadata": {},
   "outputs": [
    {
     "data": {
      "text/plain": [
       "<Graph identifier=N2e7fb21cf7e348e49cd680239b39bd0b (<class 'rdflib.graph.Graph'>)>"
      ]
     },
     "execution_count": 11,
     "metadata": {},
     "output_type": "execute_result"
    }
   ],
   "source": [
    "g = rdf.Graph()\n",
    "\n",
    "g.parse(\"./raw/bicycle_test_ld.json\",format=\"json-ld\")"
   ]
  },
  {
   "cell_type": "code",
   "execution_count": 12,
   "metadata": {},
   "outputs": [
    {
     "data": {
      "text/plain": [
       "<Graph identifier=N2e7fb21cf7e348e49cd680239b39bd0b (<class 'rdflib.graph.Graph'>)>"
      ]
     },
     "execution_count": 12,
     "metadata": {},
     "output_type": "execute_result"
    }
   ],
   "source": [
    "g"
   ]
  }
 ],
 "metadata": {
  "interpreter": {
   "hash": "4ce0e62306dd6a5716965d4519ada776f947e6dfc145b604b11307c10277ef29"
  },
  "kernelspec": {
   "display_name": "Python 3.7.4 ('base')",
   "language": "python",
   "name": "python3"
  },
  "language_info": {
   "codemirror_mode": {
    "name": "ipython",
    "version": 3
   },
   "file_extension": ".py",
   "mimetype": "text/x-python",
   "name": "python",
   "nbconvert_exporter": "python",
   "pygments_lexer": "ipython3",
   "version": "3.7.4"
  },
  "orig_nbformat": 4
 },
 "nbformat": 4,
 "nbformat_minor": 2
}
