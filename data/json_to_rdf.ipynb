{
 "cells": [
  {
   "cell_type": "code",
   "execution_count": 38,
   "metadata": {},
   "outputs": [],
   "source": [
    "import json\n",
    "import rdflib as rdf\n",
    "import owlready2 as owl"
   ]
  },
  {
   "cell_type": "code",
   "execution_count": 39,
   "metadata": {},
   "outputs": [],
   "source": [
    "def read_json(path):\n",
    "    f = open(path, 'r')\n",
    "    json_file = f.read()\n",
    "    json_file = json.loads(json_file)\n",
    "    return json_file"
   ]
  },
  {
   "cell_type": "code",
   "execution_count": 40,
   "metadata": {},
   "outputs": [],
   "source": [
    "def modify_json(file,source):\n",
    "    if source==\"grandlyon\":\n",
    "        new_file = file['features']\n",
    "\n",
    "        new_tab = []\n",
    "\n",
    "        for elem in new_file:\n",
    "            new_dict = {}\n",
    "            new_dict[\"name_station\"] = elem['properties']['name']\n",
    "            new_dict[\"station_id\"] = elem['properties']['number']\n",
    "            new_dict[\"lat_station\"] = elem['properties']['lat']\n",
    "            new_dict[\"lon_station\"] = elem['properties']['lng']\n",
    "            new_dict[\"available_bike_stands\"] = elem['properties']['available_bike_stands']\n",
    "            new_dict[\"available_bikes\"] = elem['properties']['available_bikes']\n",
    "            new_dict[\"bike_stands\"] = elem['properties']['bike_stands']\n",
    "            new_dict[\"status\"] = elem['properties']['status']\n",
    "            new_dict[\"city\"] = \"Lyon\"\n",
    "            new_tab.append(new_dict)\n",
    "        \n",
    "        new_dict = {\"@context\" : {\n",
    "            \"@vocab\": \"http://www.semanticweb.org/adrie/ontologies/Projet#\",\n",
    "            \"@base\": \"http://www.semanticweb.org/adrie/ontologies/Projet#\",\n",
    "            \"Type\": \"@type\",\n",
    "            \"name_station\" : \"name_station\",\n",
    "            \"station_id\" : \"station_id\", \n",
    "            \"lat_station\" : \"lat_station\",\n",
    "            \"lon_station\": \"lon_station\", \n",
    "            \"available_bike_stands\" : \"available_bike_stands\", \n",
    "            \"available_bikes\" : \"available_bikes\",\n",
    "            \"bike_stands\" : \"bike_stands\",\n",
    "            \"status\" : \"status\",            \n",
    "            \"city\" : \"city\"\n",
    "        }}\n",
    "        \n",
    "        new_dict[\"@graph\"] = new_file\n",
    "\n",
    "\n",
    "        return new_dict\n",
    "    else:\n",
    "        return \"Unvalid source\""
   ]
  },
  {
   "cell_type": "code",
   "execution_count": 44,
   "metadata": {},
   "outputs": [
    {
     "name": "stdout",
     "output_type": "stream",
     "text": [
      "{'@context': {'@vocab': 'http://www.semanticweb.org/adrie/ontologies/Projet#', '@base': 'http://www.semanticweb.org/adrie/ontologies/Projet#', 'Type': '@type', 'name_station': 'name_station', 'station_id': 'station_id', 'lat_station': 'lat_station', 'lon_station': 'lon_station', 'available_bike_stands': 'available_bike_stands', 'available_bikes': 'available_bikes', 'bike_stands': 'bike_stands', 'status': 'status', 'city': 'city'}, '@graph': [{'type': 'Feature', 'properties': {'number': '8010', 'name': 'Place MendÃ¨s France', 'address': \"93, Avenue de l'Europe\", 'address2': '', 'commune': 'Lyon 8 Ã¨me', 'nmarrond': '10', 'bonus': '', 'pole': 'Tramway, place, Commerces', 'lat': '45.7400516465032750', 'lng': '4.8594164128821960', 'bike_stands': '20', 'status': 'OPEN', 'available_bike_stands': '19', 'available_bikes': '1', 'availabilitycode': '1', 'availability': 'Vert', 'banking': 'true', 'gid': '996', 'last_update': '2022-03-23 12:54:25', 'last_update_fme': '2022-03-23 12:57:02', 'code_insee': '69388', 'langue': '', 'etat': '', 'nature': '', 'titre': '', 'description': '', 'startdate': '', 'enddate': ''}, 'geometry': {'type': 'Point', 'coordinates': [4.859416412882196, 45.740051646503275]}}, {'type': 'Feature', 'properties': {'number': '7055', 'name': 'Servant / Jaboulay', 'address': '30, Rue Renan', 'address2': '', 'commune': 'Lyon 7 Ã¨me', 'nmarrond': '55', 'bonus': '', 'pole': 'MÃ©tro B, future halte TER, coeur quartier, mairie', 'lat': '45.7467662258473740', 'lng': '4.8420506993495060', 'bike_stands': '16', 'status': 'OPEN', 'available_bike_stands': '0', 'available_bikes': '16', 'availabilitycode': '2', 'availability': 'Bleu', 'banking': 'false', 'gid': '979', 'last_update': '2022-03-23 12:52:03', 'last_update_fme': '2022-03-23 12:57:02', 'code_insee': '69387', 'langue': '', 'etat': '', 'nature': '', 'titre': '', 'description': '', 'startdate': '', 'enddate': ''}, 'geometry': {'type': 'Point', 'coordinates': [4.842050699349506, 45.746766225847374]}}, {'type': 'Feature', 'properties': {'number': '17002', 'name': 'Saint Fons - 4 chemins', 'address': 'Place des Quatre Chamins', 'address2': 'Face au 47 Rue Charles Plasse', 'commune': 'SAINT-FONS', 'nmarrond': '', 'bonus': '', 'pole': 'Saint-Fons', 'lat': '45.7084437290321550', 'lng': '4.8548610775585280', 'bike_stands': '11', 'status': 'OPEN', 'available_bike_stands': '1', 'available_bikes': '10', 'availabilitycode': '1', 'availability': 'Vert', 'banking': 'false', 'gid': '1229', 'last_update': '2022-03-23 12:47:48', 'last_update_fme': '2022-03-23 12:57:02', 'code_insee': '69199', 'langue': '', 'etat': '', 'nature': '', 'titre': '', 'description': '', 'startdate': '', 'enddate': ''}, 'geometry': {'type': 'Point', 'coordinates': [4.854861077558528, 45.708443729032155]}}, {'type': 'Feature', 'properties': {'number': '5002', 'name': 'Place des Compagnons de la chanson', 'address': 'Place des Compagnons de la chanson', 'address2': 'angle Rue des Aqueducs', 'commune': 'Lyon 5 Ã¨me', 'nmarrond': '2', 'bonus': '', 'pole': 'funiculaire, coeur quartier', 'lat': '45.7565273368784000', 'lng': '4.7966121788894250', 'bike_stands': '18', 'status': 'OPEN', 'available_bike_stands': '12', 'available_bikes': '6', 'availabilitycode': '1', 'availability': 'Vert', 'banking': 'false', 'gid': '1039', 'last_update': '2022-03-23 12:53:47', 'last_update_fme': '2022-03-23 12:57:02', 'code_insee': '69385', 'langue': '', 'etat': '', 'nature': '', 'titre': '', 'description': '', 'startdate': '', 'enddate': ''}, 'geometry': {'type': 'Point', 'coordinates': [4.796612178889425, 45.7565273368784]}}]}\n"
     ]
    }
   ],
   "source": [
    "json_file = read_json(\"./raw/bicycle_test.json\")\n",
    "modified_json_file = modify_json(json_file,\"grandlyon\")\n",
    "\n",
    "json.dump(modified_json_file,open(\"./raw/bicycle_test_ld.json\",\"w\"))\n",
    "\n",
    "print(modified_json_file)"
   ]
  },
  {
   "cell_type": "code",
   "execution_count": 47,
   "metadata": {},
   "outputs": [
    {
     "data": {
      "text/plain": [
       "<Graph identifier=N044ad509dcd144e8a8d86a5c7f3418d4 (<class 'rdflib.graph.Graph'>)>"
      ]
     },
     "execution_count": 47,
     "metadata": {},
     "output_type": "execute_result"
    }
   ],
   "source": [
    "g = rdf.Graph()\n",
    "\n",
    "g.parse(\"./raw/bicycle_test_ld.json\",format=\"json-ld\")"
   ]
  },
  {
   "cell_type": "code",
   "execution_count": 46,
   "metadata": {},
   "outputs": [
    {
     "data": {
      "text/plain": [
       "<Graph identifier=N6c28204c99cf47689e9dcb25940a43f2 (<class 'rdflib.graph.Graph'>)>"
      ]
     },
     "execution_count": 46,
     "metadata": {},
     "output_type": "execute_result"
    }
   ],
   "source": [
    "g"
   ]
  }
 ],
 "metadata": {
  "interpreter": {
   "hash": "4ce0e62306dd6a5716965d4519ada776f947e6dfc145b604b11307c10277ef29"
  },
  "kernelspec": {
   "display_name": "Python 3.7.4 ('base')",
   "language": "python",
   "name": "python3"
  },
  "language_info": {
   "codemirror_mode": {
    "name": "ipython",
    "version": 3
   },
   "file_extension": ".py",
   "mimetype": "text/x-python",
   "name": "python",
   "nbconvert_exporter": "python",
   "pygments_lexer": "ipython3",
   "version": "3.7.4"
  },
  "orig_nbformat": 4
 },
 "nbformat": 4,
 "nbformat_minor": 2
}
